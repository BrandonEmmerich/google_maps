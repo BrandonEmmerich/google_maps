{
 "cells": [
  {
   "cell_type": "markdown",
   "metadata": {},
   "source": [
    "# Coffee in Manhattan\n",
    "\n",
    "In a fix, which coffee chain is easier to find, Starbucks, or Dunkin? To answer that question, we will look at a list of all Dunkin' and Starbucks storefronts in Manhattan, and see the distance between each store and their nearest competitor."
   ]
  },
  {
   "cell_type": "code",
   "execution_count": 103,
   "metadata": {},
   "outputs": [
    {
     "data": {
      "text/html": [
       "<div>\n",
       "<style scoped>\n",
       "    .dataframe tbody tr th:only-of-type {\n",
       "        vertical-align: middle;\n",
       "    }\n",
       "\n",
       "    .dataframe tbody tr th {\n",
       "        vertical-align: top;\n",
       "    }\n",
       "\n",
       "    .dataframe thead th {\n",
       "        text-align: right;\n",
       "    }\n",
       "</style>\n",
       "<table border=\"1\" class=\"dataframe\">\n",
       "  <thead>\n",
       "    <tr style=\"text-align: right;\">\n",
       "      <th></th>\n",
       "      <th>address_starbucks</th>\n",
       "      <th>latitude_starbucks</th>\n",
       "      <th>longitude_starbucks</th>\n",
       "      <th>address_dunkin</th>\n",
       "      <th>latitude_dunkin</th>\n",
       "      <th>longitude_dunkin</th>\n",
       "      <th>distance_between_stores</th>\n",
       "    </tr>\n",
       "  </thead>\n",
       "  <tbody>\n",
       "    <tr>\n",
       "      <th>9903</th>\n",
       "      <td>229 7th Ave, New York</td>\n",
       "      <td>40.744294</td>\n",
       "      <td>-73.995276</td>\n",
       "      <td>225 7th Ave, New York</td>\n",
       "      <td>40.744251</td>\n",
       "      <td>-73.995319</td>\n",
       "      <td>6.0</td>\n",
       "    </tr>\n",
       "    <tr>\n",
       "      <th>8370</th>\n",
       "      <td>875 3rd Ave, New York</td>\n",
       "      <td>40.757430</td>\n",
       "      <td>-73.969128</td>\n",
       "      <td>875 3rd Ave, New York</td>\n",
       "      <td>40.757194</td>\n",
       "      <td>-73.969186</td>\n",
       "      <td>27.0</td>\n",
       "    </tr>\n",
       "    <tr>\n",
       "      <th>17191</th>\n",
       "      <td>120 Church St, New York</td>\n",
       "      <td>40.713782</td>\n",
       "      <td>-74.009077</td>\n",
       "      <td>130 Church St, New York</td>\n",
       "      <td>40.714031</td>\n",
       "      <td>-74.008954</td>\n",
       "      <td>30.0</td>\n",
       "    </tr>\n",
       "    <tr>\n",
       "      <th>21402</th>\n",
       "      <td>130 Fulton St, New York</td>\n",
       "      <td>40.710194</td>\n",
       "      <td>-74.007894</td>\n",
       "      <td>122 Fulton St, New York</td>\n",
       "      <td>40.709975</td>\n",
       "      <td>-74.007615</td>\n",
       "      <td>34.0</td>\n",
       "    </tr>\n",
       "    <tr>\n",
       "      <th>20514</th>\n",
       "      <td>360 Lexington Ave, New York</td>\n",
       "      <td>40.750319</td>\n",
       "      <td>-73.977050</td>\n",
       "      <td>370 Lexington Ave, New York</td>\n",
       "      <td>40.750670</td>\n",
       "      <td>-73.976876</td>\n",
       "      <td>42.0</td>\n",
       "    </tr>\n",
       "  </tbody>\n",
       "</table>\n",
       "</div>"
      ],
      "text/plain": [
       "                 address_starbucks  latitude_starbucks  longitude_starbucks  \\\n",
       "9903         229 7th Ave, New York           40.744294           -73.995276   \n",
       "8370         875 3rd Ave, New York           40.757430           -73.969128   \n",
       "17191      120 Church St, New York           40.713782           -74.009077   \n",
       "21402      130 Fulton St, New York           40.710194           -74.007894   \n",
       "20514  360 Lexington Ave, New York           40.750319           -73.977050   \n",
       "\n",
       "                    address_dunkin  latitude_dunkin  longitude_dunkin  \\\n",
       "9903         225 7th Ave, New York        40.744251        -73.995319   \n",
       "8370         875 3rd Ave, New York        40.757194        -73.969186   \n",
       "17191      130 Church St, New York        40.714031        -74.008954   \n",
       "21402      122 Fulton St, New York        40.709975        -74.007615   \n",
       "20514  370 Lexington Ave, New York        40.750670        -73.976876   \n",
       "\n",
       "       distance_between_stores  \n",
       "9903                       6.0  \n",
       "8370                      27.0  \n",
       "17191                     30.0  \n",
       "21402                     34.0  \n",
       "20514                     42.0  "
      ]
     },
     "execution_count": 103,
     "metadata": {},
     "output_type": "execute_result"
    }
   ],
   "source": [
    "import geopy.distance\n",
    "import pandas as pd\n",
    "import psycopg2\n",
    "\n",
    "import sys\n",
    "sys.path.append(\"../\")\n",
    "import private\n",
    "\n",
    "def get_dataframe_from_db(query):\n",
    "\n",
    "    with psycopg2.connect(private.AWS_CONNECTION_STRING) as conn:\n",
    "\n",
    "        df = pd.read_sql(\n",
    "            sql = query,\n",
    "            con = conn\n",
    "        )\n",
    "\n",
    "    return df\n",
    "\n",
    "def get_distance_between_stores(row):\n",
    "    location_1 = (row['latitude_starbucks'], row['longitude_starbucks'])\n",
    "    location_2 = (row['latitude_dunkin'], row['longitude_dunkin'])\n",
    "    distance_between_stores = geopy.distance.distance(location_1, location_2).meters\n",
    "    \n",
    "    return round(distance_between_stores)\n",
    "\n",
    "QUERY = '''\n",
    "with base_data as (\n",
    "\n",
    "    select\n",
    "        vicinity as address,\n",
    "        result_name,\n",
    "        max(location_latitude) as latitude,\n",
    "        max(location_longitude) as longitude\n",
    "    from locations_data.manhattan_coffee\n",
    "    group by 1,2\n",
    "    )\n",
    "\n",
    "select\n",
    "    t.address as address_starbucks,\n",
    "    t.latitude as latitude_starbucks,\n",
    "    t.longitude as longitude_starbucks,\n",
    "    t2.address as address_dunkin,\n",
    "    t2.latitude as latitude_dunkin,\n",
    "    t2.longitude as longitude_dunkin\n",
    "from base_data as t\n",
    "cross join base_data as t2\n",
    "where t.result_name = 'Starbucks'\n",
    "    and t2.result_name ~ 'Dunk'\n",
    "    and t.address ~ 'New York'\n",
    "    and t2.address ~ 'New York';\n",
    "'''\n",
    "\n",
    "df = get_dataframe_from_db(QUERY)\n",
    "df['distance_between_stores'] = df.apply(get_distance_between_stores, axis = 1)\n",
    "\n",
    "df.sort_values(by = ['distance_between_stores']).head()"
   ]
  },
  {
   "cell_type": "code",
   "execution_count": 104,
   "metadata": {},
   "outputs": [],
   "source": [
    "df['rank_starbucks'] = df.groupby('address_starbucks')['distance_between_stores'].rank(ascending=True)\n",
    "df['rank_dunkin'] = df.groupby('address_dunkin')['distance_between_stores'].rank(ascending=True)\n",
    "\n",
    "df_starbucks = df[df['rank_starbucks'] == 1]\n",
    "df_dunkin = df[df['rank_dunkin'] == 1]"
   ]
  },
  {
   "cell_type": "markdown",
   "metadata": {},
   "source": [
    "# What is the Competition Function?\n",
    "\n",
    "What percent of each coffee chain have a competitor within N meters?"
   ]
  },
  {
   "cell_type": "code",
   "execution_count": 110,
   "metadata": {},
   "outputs": [],
   "source": [
    "def share_of_stores_without_comp(df, distance):\n",
    "    df['threshold_distance'] = ['yes' if x < distance else 'no' for x in df['distance_between_stores']]\n",
    "\n",
    "    number_of_stores = df\\\n",
    "        .groupby('threshold_distance')['distance_between_stores']\\\n",
    "        .agg('count')['yes']\n",
    "    \n",
    "    total_stores = float(df.shape[0])\n",
    "    \n",
    "    return 1 - number_of_stores/total_stores"
   ]
  },
  {
   "cell_type": "code",
   "execution_count": 113,
   "metadata": {},
   "outputs": [
    {
     "name": "stderr",
     "output_type": "stream",
     "text": [
      "/Users/b/anaconda2/lib/python2.7/site-packages/ipykernel_launcher.py:2: SettingWithCopyWarning: \n",
      "A value is trying to be set on a copy of a slice from a DataFrame.\n",
      "Try using .loc[row_indexer,col_indexer] = value instead\n",
      "\n",
      "See the caveats in the documentation: http://pandas.pydata.org/pandas-docs/stable/indexing.html#indexing-view-versus-copy\n",
      "  \n"
     ]
    }
   ],
   "source": [
    "empty_list = []\n",
    "for i in range(10, 250, 10):\n",
    "    thing = {\n",
    "        'distance': i,\n",
    "        'starbucks': share_of_stores_without_comp(df_starbucks, i),\n",
    "        'dunkin': share_of_stores_without_comp(df_dunkin, i)\n",
    "    }\n",
    "    empty_list.append(thing)\n",
    "    \n",
    "df_final = pd.DataFrame(empty_list)"
   ]
  },
  {
   "cell_type": "code",
   "execution_count": 114,
   "metadata": {},
   "outputs": [
    {
     "data": {
      "text/plain": [
       "<matplotlib.axes._subplots.AxesSubplot at 0x1146ebbd0>"
      ]
     },
     "execution_count": 114,
     "metadata": {},
     "output_type": "execute_result"
    },
    {
     "data": {
      "image/png": "[encoded data removed]",
      "text/plain": [
       "<Figure size 720x432 with 1 Axes>"
      ]
     },
     "metadata": {},
     "output_type": "display_data"
    }
   ],
   "source": [
    "df_final\\\n",
    "    .set_index('distance')\\\n",
    "    .plot(\n",
    "        title = \"Share of Stores Without Competitior Within X Meters\", \n",
    "        figsize = (10,6))\n"
   ]
  },
  {
   "cell_type": "markdown",
   "metadata": {},
   "source": [
    "## Notes\n",
    "\n",
    "Follow Up Questions:\n",
    "1. What % of stores have an immediate competitor? Less than 100 meters?\n",
    "2. What are the counts and store share per zipcode?"
   ]
  },
  {
   "cell_type": "code",
   "execution_count": null,
   "metadata": {},
   "outputs": [],
   "source": []
  }
 ],
 "metadata": {
  "kernelspec": {
   "display_name": "Python 2",
   "language": "python",
   "name": "python2"
  },
  "language_info": {
   "codemirror_mode": {
    "name": "ipython",
    "version": 2
   },
   "file_extension": ".py",
   "mimetype": "text/x-python",
   "name": "python",
   "nbconvert_exporter": "python",
   "pygments_lexer": "ipython2",
   "version": "2.7.9"
  },
  "varInspector": {
   "cols": {
    "lenName": 16,
    "lenType": 16,
    "lenVar": 40
   },
   "kernels_config": {
    "python": {
     "delete_cmd_postfix": "",
     "delete_cmd_prefix": "del ",
     "library": "var_list.py",
     "varRefreshCmd": "print(var_dic_list())"
    },
    "r": {
     "delete_cmd_postfix": ") ",
     "delete_cmd_prefix": "rm(",
     "library": "var_list.r",
     "varRefreshCmd": "cat(var_dic_list()) "
    }
   },
   "types_to_exclude": [
    "module",
    "function",
    "builtin_function_or_method",
    "instance",
    "_Feature"
   ],
   "window_display": false
  }
 },
 "nbformat": 4,
 "nbformat_minor": 2
}
